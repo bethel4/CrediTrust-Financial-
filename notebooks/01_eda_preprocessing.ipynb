{
 "cells": [
  {
   "cell_type": "code",
   "execution_count": 1,
   "metadata": {},
   "outputs": [],
   "source": [
    "import pandas as pd\n",
    "import numpy as np\n",
    "import matplotlib.pyplot as plt\n",
    "import seaborn as sns\n",
    "\n",
    "\n"
   ]
  },
  {
   "cell_type": "code",
   "execution_count": 1,
   "metadata": {},
   "outputs": [],
   "source": [
    "import pandas as pd\n",
    "import re\n",
    "\n",
    "def clean_text(text):\n",
    "    text = str(text).lower()\n",
    "    text = re.sub(r'[^a-z\\\\s]', '', text)\n",
    "    text = re.sub(r'i am writing to file a complaint.*', '', text)\n",
    "    text = re.sub(r'\\\\s+', ' ', text).strip()\n",
    "    return text\n",
    "\n",
    "products_of_interest = [\n",
    "    'Credit card', 'Personal loan', 'Buy Now, Pay Later (BNPL)', 'Savings account', 'Money transfers'\n",
    "]\n",
    "\n",
    "chunksize = 100_000\n",
    "chunks = []\n",
    "\n",
    "for chunk in pd.read_csv('../data/raw/complaints.csv', chunksize=chunksize, low_memory=False):\n",
    "    filtered = chunk[\n",
    "        chunk['Product'].isin(products_of_interest) &\n",
    "        chunk['Consumer complaint narrative'].notnull() &\n",
    "        (chunk['Consumer complaint narrative'].str.strip() != '')\n",
    "    ].copy()\n",
    "    filtered['cleaned_narrative'] = filtered['Consumer complaint narrative'].apply(clean_text)\n",
    "    chunks.append(filtered)\n",
    "\n",
    "df = pd.concat(chunks, ignore_index=True)\n",
    "df.to_csv('../data/processed/filtered_complaints.csv', index=False)"
   ]
  },
  {
   "cell_type": "code",
   "execution_count": 2,
   "metadata": {},
   "outputs": [
    {
     "name": "stdout",
     "output_type": "stream",
     "text": [
      "Shape: (82164, 19)\n",
      "<class 'pandas.core.frame.DataFrame'>\n",
      "RangeIndex: 82164 entries, 0 to 82163\n",
      "Data columns (total 19 columns):\n",
      " #   Column                        Non-Null Count  Dtype \n",
      "---  ------                        --------------  ----- \n",
      " 0   Date received                 82164 non-null  object\n",
      " 1   Product                       82164 non-null  object\n",
      " 2   Sub-product                   63327 non-null  object\n",
      " 3   Issue                         82164 non-null  object\n",
      " 4   Sub-issue                     61770 non-null  object\n",
      " 5   Consumer complaint narrative  82164 non-null  object\n",
      " 6   Company public response       39566 non-null  object\n",
      " 7   Company                       82164 non-null  object\n",
      " 8   State                         81857 non-null  object\n",
      " 9   ZIP code                      82164 non-null  object\n",
      " 10  Tags                          14889 non-null  object\n",
      " 11  Consumer consent provided?    82164 non-null  object\n",
      " 12  Submitted via                 82164 non-null  object\n",
      " 13  Date sent to company          82164 non-null  object\n",
      " 14  Company response to consumer  82164 non-null  object\n",
      " 15  Timely response?              82164 non-null  object\n",
      " 16  Consumer disputed?            20334 non-null  object\n",
      " 17  Complaint ID                  82164 non-null  int64 \n",
      " 18  cleaned_narrative             82164 non-null  object\n",
      "dtypes: int64(1), object(18)\n",
      "memory usage: 11.9+ MB\n"
     ]
    },
    {
     "data": {
      "text/plain": [
       "Date received                       0\n",
       "Product                             0\n",
       "Sub-product                     18837\n",
       "Issue                               0\n",
       "Sub-issue                       20394\n",
       "Consumer complaint narrative        0\n",
       "Company public response         42598\n",
       "Company                             0\n",
       "State                             307\n",
       "ZIP code                            0\n",
       "Tags                            67275\n",
       "Consumer consent provided?          0\n",
       "Submitted via                       0\n",
       "Date sent to company                0\n",
       "Company response to consumer        0\n",
       "Timely response?                    0\n",
       "Consumer disputed?              61830\n",
       "Complaint ID                        0\n",
       "cleaned_narrative                   0\n",
       "dtype: int64"
      ]
     },
     "execution_count": 2,
     "metadata": {},
     "output_type": "execute_result"
    }
   ],
   "source": [
    "print('Shape:', df.shape)\n",
    "df.info()\n",
    "df.describe(include='all').T\n",
    "df.isnull().sum()"
   ]
  },
  {
   "cell_type": "code",
   "execution_count": null,
   "metadata": {},
   "outputs": [],
   "source": []
  }
 ],
 "metadata": {
  "kernelspec": {
   "display_name": "Python 3 (ipykernel)",
   "language": "python",
   "name": "python3"
  },
  "language_info": {
   "codemirror_mode": {
    "name": "ipython",
    "version": 3
   },
   "file_extension": ".py",
   "mimetype": "text/x-python",
   "name": "python",
   "nbconvert_exporter": "python",
   "pygments_lexer": "ipython3",
   "version": "3.10.12"
  }
 },
 "nbformat": 4,
 "nbformat_minor": 4
}
